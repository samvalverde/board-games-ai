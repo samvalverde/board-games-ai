{
 "cells": [
  {
   "cell_type": "code",
   "execution_count": null,
   "id": "fec29556",
   "metadata": {},
   "outputs": [],
   "source": [
    "# --- Celda 1: imports y carga de datos ---\n",
    "import pandas as pd\n",
    "import matplotlib.pyplot as plt\n",
    "\n",
    "# Cargar resultados del benchmark\n",
    "df = pd.read_csv(\"experiments/results.csv\")\n",
    "df.head()\n"
   ]
  },
  {
   "cell_type": "code",
   "execution_count": null,
   "id": "ef0e4c27",
   "metadata": {},
   "outputs": [],
   "source": [
    "# --- Celda 2: Tiempo de ejecución promedio por n y heurística ---\n",
    "times = df.groupby([\"n\", \"heuristic\"])[\"time\"].mean().unstack()\n",
    "\n",
    "times.plot(kind=\"bar\", figsize=(8,5))\n",
    "plt.title(\"⏱ Tiempo de ejecución promedio por heurística\")\n",
    "plt.ylabel(\"Tiempo (s)\")\n",
    "plt.xlabel(\"Tamaño del tablero (n)\")\n",
    "plt.xticks(rotation=0)\n",
    "plt.legend(title=\"Heurística\")\n",
    "plt.show()\n"
   ]
  },
  {
   "cell_type": "code",
   "execution_count": null,
   "id": "b023d742",
   "metadata": {},
   "outputs": [],
   "source": [
    "# --- Celda 3: Tasa de éxito ---\n",
    "success_rate = df.groupby([\"n\", \"heuristic\"])[\"success\"].mean().unstack()\n",
    "\n",
    "success_rate.plot(kind=\"bar\", figsize=(8,5))\n",
    "plt.title(\"✅ Tasa de éxito por heurística\")\n",
    "plt.ylabel(\"Proporción de soluciones (0-1)\")\n",
    "plt.xlabel(\"Tamaño del tablero (n)\")\n",
    "plt.xticks(rotation=0)\n",
    "plt.legend(title=\"Heurística\")\n",
    "plt.show()\n"
   ]
  },
  {
   "cell_type": "code",
   "execution_count": null,
   "id": "e23ef6d0",
   "metadata": {},
   "outputs": [],
   "source": [
    "# --- Celda 4: Nodos expandidos promedio ---\n",
    "expanded = df[df[\"success\"] == True].groupby([\"n\", \"heuristic\"])[\"expanded\"].mean().unstack()\n",
    "\n",
    "expanded.plot(kind=\"bar\", figsize=(8,5))\n",
    "plt.title(\"📦 Nodos expandidos promedio (solo soluciones exitosas)\")\n",
    "plt.ylabel(\"Nodos expandidos\")\n",
    "plt.xlabel(\"Tamaño del tablero (n)\")\n",
    "plt.xticks(rotation=0)\n",
    "plt.legend(title=\"Heurística\")\n",
    "plt.show()\n"
   ]
  },
  {
   "cell_type": "code",
   "execution_count": null,
   "id": "61f8d823",
   "metadata": {},
   "outputs": [],
   "source": [
    "# --- Celda 5: Resumen tabular ---\n",
    "summary = df.groupby([\"n\", \"heuristic\"]).agg(\n",
    "    runs=(\"run\", \"count\"),\n",
    "    success_rate=(\"success\", \"mean\"),\n",
    "    avg_time=(\"time\", \"mean\"),\n",
    "    avg_expanded=(\"expanded\", \"mean\"),\n",
    "    aborted=(\"aborted\", \"sum\")\n",
    ")\n",
    "summary\n"
   ]
  }
 ],
 "metadata": {
  "kernelspec": {
   "display_name": "Python 3",
   "language": "python",
   "name": "python3"
  },
  "language_info": {
   "name": "python",
   "version": "3.12.10"
  }
 },
 "nbformat": 4,
 "nbformat_minor": 5
}
